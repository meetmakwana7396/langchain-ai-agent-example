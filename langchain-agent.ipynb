{
 "cells": [
  {
   "cell_type": "markdown",
   "metadata": {},
   "source": [
    "### Function to set environment variables"
   ]
  },
  {
   "cell_type": "code",
   "execution_count": 3,
   "metadata": {},
   "outputs": [],
   "source": [
    "import getpass\n",
    "import os\n",
    "\n",
    "\n",
    "def _set_env(var: str):\n",
    "    if not os.environ.get(var):\n",
    "        os.environ[var] = getpass.getpass(f\"{var}: \")"
   ]
  },
  {
   "cell_type": "markdown",
   "metadata": {},
   "source": [
    "### Setting up environment variables"
   ]
  },
  {
   "cell_type": "code",
   "execution_count": 26,
   "metadata": {},
   "outputs": [],
   "source": [
    "_set_env('TAVILY_API_KEY')\n",
    "_set_env('LANGSMITH_API_KEY')"
   ]
  },
  {
   "cell_type": "markdown",
   "metadata": {},
   "source": [
    "### Defining tools"
   ]
  },
  {
   "cell_type": "code",
   "execution_count": 19,
   "metadata": {},
   "outputs": [
    {
     "name": "stdout",
     "output_type": "stream",
     "text": [
      "[{'title': 'Weather in San Francisco', 'url': 'https://www.weatherapi.com/', 'content': \"{'location': {'name': 'San Francisco', 'region': 'California', 'country': 'United States of America', 'lat': 37.775, 'lon': -122.4183, 'tz_id': 'America/Los_Angeles', 'localtime_epoch': 1741674889, 'localtime': '2025-03-10 23:34'}, 'current': {'last_updated_epoch': 1741674600, 'last_updated': '2025-03-10 23:30', 'temp_c': 11.1, 'temp_f': 52.0, 'is_day': 0, 'condition': {'text': 'Partly cloudy', 'icon': '//cdn.weatherapi.com/weather/64x64/night/116.png', 'code': 1003}, 'wind_mph': 5.8, 'wind_kph': 9.4, 'wind_degree': 283, 'wind_dir': 'WNW', 'pressure_mb': 1011.0, 'pressure_in': 29.86, 'precip_mm': 0.0, 'precip_in': 0.0, 'humidity': 59, 'cloud': 75, 'feelslike_c': 10.1, 'feelslike_f': 50.1, 'windchill_c': 10.8, 'windchill_f': 51.4, 'heatindex_c': 11.2, 'heatindex_f': 52.2, 'dewpoint_c': 9.0, 'dewpoint_f': 48.2, 'vis_km': 16.0, 'vis_miles': 9.0, 'uv': 0.0, 'gust_mph': 9.6, 'gust_kph': 15.5}}\", 'score': 0.9588959}, {'title': 'Weather in San Francisco in March 2025 (California)', 'url': 'https://world-weather.info/forecast/usa/san_francisco/march-2025/', 'content': \"Weather in San Francisco in March 2025 (California) - Detailed Weather Forecast for a Month Weather in San Francisco Weather in San Francisco in March 2025 San Francisco Weather Forecast for March 2025 is based on long term prognosis and previous years' statistical data. 1 +54°+52° 2 +54°+50° 3 +54°+50° 4 +54°+48° 5 +61°+46° +59°+50° +59°+50° +61°+50° +61°+52° +61°+52° +63°+52° +63°+52° +61°+52° +61°+52° +63°+54° +61°+52° +63°+50° +61°+52° +61°+52° +59°+52° +61°+52° +59°+50° +57°+50° +57°+50° +59°+50° +59°+50° +61°+52° +63°+52° +63°+54° +63°+52° +63°+54° Extended weather forecast in San Francisco HourlyWeek10-Day14-Day30-DayYear Weather in Washington, D.C.+32° Sacramento+55° Pleasanton+52° Redwood City+55° San Leandro+55° San Mateo+54° San Rafael+55° San Ramon+52° South San Francisco+54° Vallejo+54° Palo Alto+55° Pacifica+55° Berkeley+57° Castro Valley+54° Concord+54° Daly City+54° Lagunitas+55° world's temperature today day day Temperature units\", 'score': 0.8877607}]\n"
     ]
    }
   ],
   "source": [
    "from langchain_community.tools.tavily_search import TavilySearchResults\n",
    "\n",
    "search = TavilySearchResults(max_results=2)\n",
    "\n",
    "# Below two line of code is for testing purpose\n",
    "# search_results = search.invoke(\"what is the weather in SF\")\n",
    "# print(search_results)\n",
    "\n",
    "# If we want, we can create other tools.\n",
    "# Once we have all the tools we want, we can put them in a list that we will reference later.\n",
    "tools = [search]"
   ]
  },
  {
   "cell_type": "markdown",
   "metadata": {},
   "source": [
    "### Initializing LLM"
   ]
  },
  {
   "cell_type": "code",
   "execution_count": 20,
   "metadata": {},
   "outputs": [],
   "source": [
    "from langchain_ollama import ChatOllama\n",
    "\n",
    "# Model\n",
    "llm = ChatOllama(model=\"llama3.2:latest\")"
   ]
  },
  {
   "cell_type": "markdown",
   "metadata": {},
   "source": [
    "### Testing LLM"
   ]
  },
  {
   "cell_type": "code",
   "execution_count": 21,
   "metadata": {},
   "outputs": [
    {
     "name": "stdout",
     "output_type": "stream",
     "text": [
      "AI Response: Hello! It's nice to meet you. Is there something I can help you with or would you like to chat?\n"
     ]
    }
   ],
   "source": [
    "from langchain_core.messages import HumanMessage\n",
    "\n",
    "response = llm.invoke([HumanMessage(content=\"hi!\")])\n",
    "print(f\"AI Response: {response.content}\")"
   ]
  },
  {
   "cell_type": "markdown",
   "metadata": {},
   "source": [
    "### Creating structured agent using LLM and tools"
   ]
  },
  {
   "cell_type": "code",
   "execution_count": 80,
   "metadata": {},
   "outputs": [],
   "source": [
    "from langgraph.prebuilt import create_react_agent\n",
    "\n",
    "agent_executor = create_react_agent(llm, tools)\n",
    "\n",
    "\n",
    "# Define a function to test the agent\n",
    "def test_agent(query):\n",
    "    print(f\"\\nTESTING: {query}\")\n",
    "    print(\"-\" * 50)\n",
    "    try:\n",
    "        response = agent_executor.invoke({\"messages\": [HumanMessage(content=query)]})\n",
    "        print(response[\"messages\"][-1].content)\n",
    "    except Exception as e:\n",
    "        print(f\"ERROR: {e}\")\n",
    "    print(\"-\" * 50)\n"
   ]
  },
  {
   "cell_type": "markdown",
   "metadata": {},
   "source": [
    "### Testing agent response after binding with tools"
   ]
  },
  {
   "cell_type": "code",
   "execution_count": 78,
   "metadata": {},
   "outputs": [
    {
     "name": "stdout",
     "output_type": "stream",
     "text": [
      "\n",
      "TESTING: Hi my name is meet!\n",
      "--------------------------------------------------\n"
     ]
    },
    {
     "name": "stdout",
     "output_type": "stream",
     "text": [
      "Hi Meet! \n",
      "\n",
      "The name \"Meet\" has several meanings and origins. According to various sources, including MyloFamily and MomJunction, the name \"Meet\" is derived from the word \"meet,\" which means \"friend,\" \"companion,\" or \"well wisher.\" It's a charming masculine name primarily rooted in the Indian subcontinent.\n",
      "\n",
      "You might also find it interesting that the name \"Meet\" has become popular in recent years, possibly due to its unique and modern sound. However, it's worth noting that the name \"Meet\" may have different connotations or associations in various cultures or communities.\n",
      "\n",
      "I hope this information helps you learn more about your name, Meet!\n",
      "--------------------------------------------------\n",
      "\n",
      "TESTING: What's the weather in San Francisco?\n",
      "--------------------------------------------------\n",
      "The current weather in San Francisco is partly cloudy with a temperature of 11.1°C (52°F). There is no precipitation and the wind speed is 3.6 mph (WNNW). The humidity level is 57% and the visibility is 16 km (9 miles).\n",
      "--------------------------------------------------\n"
     ]
    }
   ],
   "source": [
    "# Test with different inputs\n",
    "test_agent(\"Hi my name is meet!\")\n",
    "test_agent(\"What's the weather in San Francisco?\")\n"
   ]
  }
 ],
 "metadata": {
  "kernelspec": {
   "display_name": "practice-venv",
   "language": "python",
   "name": "python3"
  },
  "language_info": {
   "codemirror_mode": {
    "name": "ipython",
    "version": 3
   },
   "file_extension": ".py",
   "mimetype": "text/x-python",
   "name": "python",
   "nbconvert_exporter": "python",
   "pygments_lexer": "ipython3",
   "version": "3.11.2"
  }
 },
 "nbformat": 4,
 "nbformat_minor": 2
}
