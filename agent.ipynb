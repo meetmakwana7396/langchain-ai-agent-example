{
 "cells": [
  {
   "cell_type": "markdown",
   "metadata": {},
   "source": [
    "## Set-up environment"
   ]
  },
  {
   "cell_type": "code",
   "execution_count": 2,
   "metadata": {},
   "outputs": [],
   "source": [
    "import getpass\n",
    "import os\n",
    "\n",
    "\n",
    "def _set_env(var: str):\n",
    "    if not os.environ.get(var):\n",
    "        os.environ[var] = getpass.getpass(f\"{var}: \")"
   ]
  },
  {
   "cell_type": "markdown",
   "metadata": {},
   "source": [
    "## Run below code to see example chatbot made with LangGraph"
   ]
  },
  {
   "cell_type": "markdown",
   "metadata": {},
   "source": [
    "Below chatbot is made with local LLM provided by Ollama, we're using llama3.2:latest model which supports tools to create agentic AI."
   ]
  },
  {
   "cell_type": "code",
   "execution_count": null,
   "metadata": {},
   "outputs": [
    {
     "data": {
      "image/png": "[encoded data removed]",
      "text/plain": [
       "<IPython.core.display.Image object>"
      ]
     },
     "metadata": {},
     "output_type": "display_data"
    },
    {
     "name": "stdout",
     "output_type": "stream",
     "text": [
      "Goodbye!\n"
     ]
    }
   ],
   "source": [
    "from typing import Annotated\n",
    "\n",
    "from langchain_ollama import ChatOllama\n",
    "from typing_extensions import TypedDict\n",
    "\n",
    "from langgraph.graph import StateGraph\n",
    "from langgraph.graph.message import add_messages\n",
    "from IPython.display import Image, display\n",
    "\n",
    "\n",
    "# Graph state\n",
    "class State(TypedDict):\n",
    "    messages: Annotated[list, add_messages]\n",
    "\n",
    "# Graph Instance\n",
    "graph_builder = StateGraph(State)\n",
    "\n",
    "# Model\n",
    "llm = ChatOllama(model=\"llama3.2:latest\")\n",
    "\n",
    "\n",
    "# Node\n",
    "def chatbot(state: State):\n",
    "    return {\"messages\": [llm.invoke(state[\"messages\"])]}\n",
    "\n",
    "\n",
    "# The first argument is the unique node name\n",
    "# The second argument is the function or object that will be called whenever\n",
    "# the node is used.\n",
    "graph_builder.add_node(\"chatbot\", chatbot)\n",
    "graph_builder.set_entry_point(\"chatbot\")\n",
    "graph_builder.set_finish_point(\"chatbot\")\n",
    "graph = graph_builder.compile()\n",
    "\n",
    "try:\n",
    "    display(Image(graph.get_graph().draw_mermaid_png()))\n",
    "except Exception:\n",
    "    # This requires some extra dependencies and is optional\n",
    "    pass\n",
    "\n",
    "def stream_graph_updates(user_input: str):\n",
    "    for event in graph.stream({\"messages\": [{\"role\": \"user\", \"content\": user_input}]}):\n",
    "        for value in event.values():\n",
    "            print(\"Assistant:\", value[\"messages\"][-1].content)\n",
    "\n",
    "\n",
    "while True:\n",
    "    try:\n",
    "        user_input = input(\"User: \")\n",
    "        if user_input.lower() in [\"quit\", \"exit\", \"q\"]:\n",
    "            print(\"Goodbye!\")\n",
    "            break\n",
    "\n",
    "        stream_graph_updates(user_input)\n",
    "    except:\n",
    "        # fallback if input() is not available\n",
    "        user_input = \"What do you know about LangGraph?\"\n",
    "        print(\"User: \" + user_input)\n",
    "        stream_graph_updates(user_input)\n",
    "        break\n"
   ]
  },
  {
   "cell_type": "markdown",
   "metadata": {},
   "source": [
    "Above is simople example of chatbot using LangGraph, Now we add tool in this chatbot. We're going to integrate search tool using Tavily."
   ]
  },
  {
   "cell_type": "markdown",
   "metadata": {},
   "source": [
    "Add TAVILY_API_KEY in env"
   ]
  },
  {
   "cell_type": "code",
   "execution_count": 3,
   "metadata": {},
   "outputs": [],
   "source": [
    "_set_env(\"TAVILY_API_KEY\")"
   ]
  },
  {
   "cell_type": "markdown",
   "metadata": {},
   "source": [
    "Integrate Tavily with chatbot"
   ]
  },
  {
   "cell_type": "code",
   "execution_count": 4,
   "metadata": {},
   "outputs": [
    {
     "data": {
      "text/plain": [
       "[{'title': 'LangGraph - LangChain Blog',\n",
       "  'url': 'https://blog.langchain.dev/langgraph/',\n",
       "  'content': 'TL;DR: LangGraph is module built on top of LangChain to better enable creation of cyclical graphs, often needed for agent runtimes. This state is updated by nodes in the graph, which return operations to attributes of this state (in the form of a key-value store). After adding nodes, you can then add edges to create the graph. An example of this may be in the basic agent runtime, where we always want the model to be called after we call a tool. graph.add_edge(\"tools\", \"model\") The state of this graph by default contains concepts that should be familiar to you if you\\'ve used LangChain agents: input, chat_history, intermediate_steps (and agent_outcome to represent the most recent agent outcome)',\n",
       "  'score': 0.70944256},\n",
       " {'title': 'LangGraph Glossary - GitHub Pages',\n",
       "  'url': 'https://langchain-ai.github.io/langgraph/concepts/low_level/',\n",
       "  'content': '[](https://langchain-ai.github.io/langgraph/concepts/low_level/#__codelineno-1-19)def node_2(state: OverallState) -> PrivateState: [](https://langchain-ai.github.io/langgraph/concepts/low_level/#__codelineno-1-25)    return {\"graph_output\": state[\"bar\"] + \" Lance\"} [](https://langchain-ai.github.io/langgraph/concepts/low_level/#__codelineno-1-31)builder.add_edge(START, \"node_1\") [](https://langchain-ai.github.io/langgraph/concepts/low_level/#__codelineno-7-13)def my_other_node(state: dict): [](https://langchain-ai.github.io/langgraph/concepts/low_level/#__codelineno-9-3)graph.add_edge(START, \"node_a\") [](https://langchain-ai.github.io/langgraph/concepts/low_level/#__codelineno-10-3)graph.add_edge(\"node_a\", END) [](https://langchain-ai.github.io/langgraph/concepts/low_level/#__codelineno-11-1)graph.add_edge(\"node_a\", \"node_b\") [](https://langchain-ai.github.io/langgraph/concepts/low_level/#__codelineno-12-1)graph.add_conditional_edges(\"node_a\", routing_function) [](https://langchain-ai.github.io/langgraph/concepts/low_level/#__codelineno-13-1)graph.add_conditional_edges(\"node_a\", routing_function, {True: \"node_b\", False: \"node_c\"}) [](https://langchain-ai.github.io/langgraph/concepts/low_level/#__codelineno-14-3)graph.add_edge(START, \"node_a\") [](https://langchain-ai.github.io/langgraph/concepts/low_level/#__codelineno-15-3)graph.add_conditional_edges(START, routing_function) [](https://langchain-ai.github.io/langgraph/concepts/low_level/#__codelineno-16-1)graph.add_conditional_edges(START, routing_function, {True: \"node_b\", False: \"node_c\"}) [](https://langchain-ai.github.io/langgraph/concepts/low_level/#__codelineno-17-4)graph.add_conditional_edges(\"node_a\", continue_to_jokes) [](https://langchain-ai.github.io/langgraph/concepts/low_level/#__codelineno-20-4)        goto=\"other_subgraph\",  # where `other_subgraph` is a node in the parent graph [](https://langchain-ai.github.io/langgraph/concepts/low_level/#__codelineno-22-4)graph = StateGraph(State, config_schema=ConfigSchema) [](https://langchain-ai.github.io/langgraph/concepts/low_level/#__codelineno-24-1)def node_a(state, config): [](https://langchain-ai.github.io/langgraph/concepts/low_level/#__codelineno-26-3)def human_approval_node(state: State): [](https://langchain-ai.github.io/langgraph/concepts/low_level/#__codelineno-29-8)    foo: str  # note that this key is shared with the parent graph state [](https://langchain-ai.github.io/langgraph/concepts/low_level/#__codelineno-29-12)def subgraph_node(state: SubgraphState): [](https://langchain-ai.github.io/langgraph/concepts/low_level/#__codelineno-29-13)    # note that this subgraph node can communicate with the parent graph via the shared \"foo\" key [](https://langchain-ai.github.io/langgraph/concepts/low_level/#__codelineno-30-5)    # note that none of these keys are shared with the parent graph state [](https://langchain-ai.github.io/langgraph/concepts/low_level/#__codelineno-30-10)def subgraph_node(state: SubgraphState):',\n",
       "  'score': 0.6063825}]"
      ]
     },
     "execution_count": 4,
     "metadata": {},
     "output_type": "execute_result"
    }
   ],
   "source": [
    "from langchain_community.tools.tavily_search import TavilySearchResults\n",
    "\n",
    "tool = TavilySearchResults(max_results=2)\n",
    "tools = [tool]\n",
    "# tool.invoke(\"What's a 'node' in LangGraph?\")"
   ]
  },
  {
   "cell_type": "code",
   "execution_count": 8,
   "metadata": {},
   "outputs": [
    {
     "data": {
      "image/png": "[encoded data removed]",
      "text/plain": [
       "<IPython.core.display.Image object>"
      ]
     },
     "metadata": {},
     "output_type": "display_data"
    },
    {
     "name": "stdout",
     "output_type": "stream",
     "text": [
      "Assistant: \n",
      "Assistant: [{\"title\": \"NBC News - Breaking News & Top Stories - Latest World, US ...\", \"url\": \"https://www.nbcnews.com/\", \"content\": \"FrequentSearches | Search Ads / [SPONSORED](https://popup.taboola.com/en/?template=colorbox&utm_source=nbcnews&utm_medium=referral&utm_content=thumbnails-feed-4x1:BelowHomepageThumbnails|Card2:)[SPONSORED](https://popup.taboola.com/en/?template=colorbox&utm_source=nbcnews&utm_medium=referral&utm_content=thumbnails-feed-4x1:BelowHomepageThumbnails|Card2:) New Electric Cars Come With Tiny Price Tags (Take A Look) SunValue / [SPONSORED](https://popup.taboola.com/en/?template=colorbox&utm_source=nbcnews&utm_medium=referral&utm_content=thumbnails-feed-4x1:BelowHomepageThumbnails|Card2:)[SPONSORED](https://popup.taboola.com/en/?template=colorbox&utm_source=nbcnews&utm_medium=referral&utm_content=thumbnails-feed-4x1:BelowHomepageThumbnails|Card2:) Power Bill Savings From Solar Panels Are Turning Heads In CaliforniaIf you pay more than $99/month for power and own a home, you should read this now. FavoriteSearches | Search Ads / [SPONSORED](https://popup.taboola.com/en/?template=colorbox&utm_source=nbcnews&utm_medium=referral&utm_content=thumbnails-feed-4x1:BelowHomepageThumbnails|Card4:)[SPONSORED](https://popup.taboola.com/en/?template=colorbox&utm_source=nbcnews&utm_medium=referral&utm_content=thumbnails-feed-4x1:BelowHomepageThumbnails|Card4:) New Small Electric Car For Seniors - The Price May Surprise You GoSearches | Search Ads / [SPONSORED](https://popup.taboola.com/en/?template=colorbox&utm_source=nbcnews&utm_medium=referral&utm_content=thumbnails-feed-2x1:BelowHomepageThumbnails|Card5:)[SPONSORED](https://popup.taboola.com/en/?template=colorbox&utm_source=nbcnews&utm_medium=referral&utm_content=thumbnails-feed-2x1:BelowHomepageThumbnails|Card5:) New SUVs Many Don't Realize Are Loaded With Luxury (Take A Look) Grammarly / [SPONSORED](https://popup.taboola.com/en/?template=colorbox&utm_source=nbcnews&utm_medium=referral&utm_content=thumbnails-feed-2x1:BelowHomepageThumbnails|Card7:)[SPONSORED](https://popup.taboola.com/en/?template=colorbox&utm_source=nbcnews&utm_medium=referral&utm_content=thumbnails-feed-2x1:BelowHomepageThumbnails|Card7:) How Much Time Could You Save with Clearer Writing?Customers report Grammarly saves them almost an entire month of work every year.\", \"score\": 0.2217216}, {\"title\": \"CNN: Breaking News, Latest News and Videos\", \"url\": \"https://www.cnn.com/\", \"content\": \"US World Politics Business Health Entertainment Style Travel Sports Science Climate Weather Ukraine-Russia War Israel-Hamas War Underscored Games CNN10 About CNN Live Updates Trump says ‘no clash’ between Musk and Rubio after New York Times report about Cabinet meeting Watch the latest CNN Headlines CNN Headlines is a curated channel covering major news events across politics, international, business, and entertainment, and showcasing the most impactful stories of the day. • Video 0:33 Butterfly RecordsVideo Dolly Parton releases new song dedicated to late husband of 60 years 0:33 Video ‘He better watch out’: Ex-Obama official warns Trump’s possible cut may backfire 2:20 Yuki Iwamura/Bloomberg/Getty ImagesThe US economy added 151,000 jobs in February in first full jobs report under Trump’s second term More from CNN CNN10 About CNN\", \"score\": 0.1786121}]\n",
      "Assistant: Here are the current events based on the tool search results:\n",
      "\n",
      "1. **New Electric Cars Come With Tiny Price Tags**: Check out the latest electric cars available with affordable prices.\n",
      "2. **Power Bill Savings From Solar Panels Are Turning Heads In California**: Learn how solar panels can help you save money on your power bill.\n",
      "3. **New Small Electric Car For Seniors - The Price May Surprise You**: Discover a new small electric car designed for seniors, and find out if the price is as surprising as it sounds.\n",
      "4. **New SUVs Many Don't Realize Are Loaded With Luxury (Take A Look)**: Explore the latest SUV models that may surprise you with their luxury features.\n",
      "5. **How Much Time Could You Save with Clearer Writing?**: Find out how Grammarly can help you save time and improve your writing.\n",
      "\n",
      "Additionally, you can check the following news websites for the latest updates:\n",
      "\n",
      "* NBC News (https://www.nbcnews.com/)\n",
      "* CNN (https://www.cnn.com/)\n",
      "Goodbye!\n"
     ]
    }
   ],
   "source": [
    "from typing import Annotated\n",
    "\n",
    "from langchain_ollama import ChatOllama\n",
    "from typing_extensions import TypedDict\n",
    "\n",
    "from langgraph.graph import StateGraph\n",
    "from langgraph.graph.message import add_messages\n",
    "from IPython.display import Image, display\n",
    "from langgraph.prebuilt import ToolNode, tools_condition\n",
    "\n",
    "\n",
    "\n",
    "# Graph state\n",
    "class State(TypedDict):\n",
    "    messages: Annotated[list, add_messages]\n",
    "\n",
    "# Graph Instance\n",
    "graph_builder = StateGraph(State)\n",
    "\n",
    "# Model\n",
    "llm = ChatOllama(model=\"llama3.2:latest\")\n",
    "llm_with_tools = llm.bind_tools(tools)\n",
    "\n",
    "# Node\n",
    "def chatbot(state: State):\n",
    "    return {\"messages\": [llm_with_tools.invoke(state[\"messages\"])]}\n",
    "\n",
    "graph_builder.add_node(\"chatbot\", chatbot)\n",
    "tool_node = ToolNode(tools=[tool])\n",
    "graph_builder.add_node(\"tools\", tool_node)\n",
    "\n",
    "graph_builder.add_conditional_edges(\n",
    "    \"chatbot\",\n",
    "    tools_condition,\n",
    ")\n",
    "# Any time a tool is called, we return to the chatbot to decide the next step\n",
    "graph_builder.add_edge(\"tools\", \"chatbot\")\n",
    "graph_builder.set_entry_point(\"chatbot\")\n",
    "graph = graph_builder.compile()\n",
    "\n",
    "\n",
    "try:\n",
    "    display(Image(graph.get_graph().draw_mermaid_png()))\n",
    "except Exception:\n",
    "    # This requires some extra dependencies and is optional\n",
    "    pass\n",
    "\n",
    "def stream_graph_updates(user_input: str):\n",
    "    for event in graph.stream({\"messages\": [{\"role\": \"user\", \"content\": user_input}]}):\n",
    "        for value in event.values():\n",
    "            print(\"Assistant:\", value[\"messages\"][-1].content)\n",
    "\n",
    "\n",
    "while True:\n",
    "    try:\n",
    "        user_input = input(\"User: \")\n",
    "        if user_input.lower() in [\"quit\", \"exit\", \"q\"]:\n",
    "            print(\"Goodbye!\")\n",
    "            break\n",
    "\n",
    "        stream_graph_updates(user_input)\n",
    "    except:\n",
    "        # fallback if input() is not available\n",
    "        print(\"It seems your question is empty!\")\n",
    "        break"
   ]
  }
 ],
 "metadata": {
  "kernelspec": {
   "display_name": "practice-venv",
   "language": "python",
   "name": "python3"
  },
  "language_info": {
   "codemirror_mode": {
    "name": "ipython",
    "version": 3
   },
   "file_extension": ".py",
   "mimetype": "text/x-python",
   "name": "python",
   "nbconvert_exporter": "python",
   "pygments_lexer": "ipython3",
   "version": "3.11.2"
  }
 },
 "nbformat": 4,
 "nbformat_minor": 2
}
